{
 "cells": [
  {
   "cell_type": "code",
   "execution_count": null,
   "id": "6fd6a3fa",
   "metadata": {},
   "outputs": [],
   "source": [
    "import copy\n",
    "import numpy as np\n",
    "from scipy.stats import ks_2samp\n",
    "import numpy as np\n",
    "from pathlib import Path\n",
    "import matplotlib.pyplot as plt\n",
    "from Team_Win_Analysis_Runner import *\n",
    "from pathlib import Path\n",
    "from scipy.stats import ks_2samp\n",
    "from Team_Win_Analysis_Runner import *\n",
    "from pathlib import Path\n",
    "import pandas as pd\n",
    "import plotly.graph_objects as go\n",
    "from plotly.subplots import make_subplots"
   ]
  },
  {
   "cell_type": "code",
   "execution_count": null,
   "id": "b0a1ec7f",
   "metadata": {},
   "outputs": [
    {
     "name": "stderr",
     "output_type": "stream",
     "text": [
      "100%|██████████| 1000/1000 [00:00<00:00, 1083.34it/s]\n",
      "100%|██████████| 1000/1000 [00:00<00:00, 1084.57it/s]\n",
      "100%|██████████| 1000/1000 [00:00<00:00, 1081.53it/s]\n",
      "100%|██████████| 1000/1000 [00:00<00:00, 1082.44it/s]\n",
      "100%|██████████| 1000/1000 [00:01<00:00, 594.99it/s]\n",
      "100%|██████████| 1000/1000 [00:01<00:00, 593.69it/s]\n",
      "100%|██████████| 1000/1000 [00:01<00:00, 580.89it/s]\n",
      "100%|██████████| 1000/1000 [00:01<00:00, 539.92it/s]\n",
      "100%|██████████| 1000/1000 [00:02<00:00, 404.09it/s]\n",
      "100%|██████████| 1000/1000 [00:02<00:00, 408.02it/s]\n",
      "100%|██████████| 1000/1000 [00:02<00:00, 403.05it/s]\n",
      "100%|██████████| 1000/1000 [00:02<00:00, 404.69it/s]\n",
      "100%|██████████| 1000/1000 [00:03<00:00, 308.89it/s]\n",
      "100%|██████████| 1000/1000 [00:03<00:00, 306.50it/s]\n",
      "100%|██████████| 1000/1000 [00:03<00:00, 304.77it/s]\n",
      "100%|██████████| 1000/1000 [00:03<00:00, 304.27it/s]\n",
      "100%|██████████| 1000/1000 [00:01<00:00, 575.88it/s]\n",
      "100%|██████████| 1000/1000 [00:01<00:00, 584.23it/s]\n",
      "100%|██████████| 1000/1000 [00:01<00:00, 588.31it/s]\n",
      "100%|██████████| 1000/1000 [00:01<00:00, 587.45it/s]\n",
      "100%|██████████| 1000/1000 [00:01<00:00, 543.67it/s]\n",
      "100%|██████████| 1000/1000 [00:01<00:00, 564.02it/s]\n",
      "100%|██████████| 1000/1000 [00:01<00:00, 575.04it/s]\n",
      "100%|██████████| 1000/1000 [00:01<00:00, 585.34it/s]\n",
      "100%|██████████| 1000/1000 [00:01<00:00, 577.32it/s]\n",
      "100%|██████████| 1000/1000 [00:01<00:00, 586.81it/s]\n",
      "100%|██████████| 1000/1000 [00:01<00:00, 588.65it/s]\n",
      "100%|██████████| 1000/1000 [00:01<00:00, 586.33it/s]\n"
     ]
    }
   ],
   "source": [
    "folder=Path(\"Two dimensions\")\n",
    "Mapping=dict()\n",
    "folder.mkdir(parents=True, exist_ok=True)\n",
    "for (Tau,Error_Bound) in [(0.1,0.1),(0.2,0.1),(0.3,0.1),(0.4,0.1),(0.2,0.02),(0.2,0.06),(0.2,0.14)]:\n",
    "    N_experts=4 #Number of experts\n",
    "    N_iterations=10000 #Number of iterations\n",
    "    N_players=1000\n",
    "    tau=Tau\n",
    "    Entry_fee=25\n",
    "    Platform_fee_fraction=0.2\n",
    "    correlation = 0.1\n",
    "    Analytic_Error_Bound=Error_Bound\n",
    "    configs = {\n",
    "        \"Equi-mean_Equivariance\":{\n",
    "            \"N_experts\": N_experts,\n",
    "            \"Means_Lognormal\": [500, 500, 500, 500],\n",
    "            \"Std_devs_Lognormal\": [60, 60, 60, 60],\n",
    "            \"N_players\": N_players,\n",
    "            \"tau\": tau,\n",
    "            \"Entry_fee\": Entry_fee,\n",
    "            \"Platform_fee_fraction\": Platform_fee_fraction,\n",
    "            \"correlation\": correlation,\n",
    "            \"Analytic_Error_Bound\": Analytic_Error_Bound\n",
    "        },\n",
    "        \"Unequal-mean_Equivariance\":{\n",
    "            \"N_experts\": N_experts,\n",
    "            \"Means_Lognormal\": [440, 473, 517, 550],\n",
    "            \"Std_devs_Lognormal\":[60, 60, 60, 60],\n",
    "            \"N_players\": N_players,\n",
    "            \"tau\": tau,\n",
    "            \"Entry_fee\": Entry_fee,\n",
    "            \"Platform_fee_fraction\": Platform_fee_fraction,\n",
    "            \"correlation\": correlation,\n",
    "            \"Analytic_Error_Bound\": Analytic_Error_Bound\n",
    "        },\n",
    "        \"Equi-mean_Unequal-std\":\n",
    "        {\n",
    "            \"N_experts\": N_experts,\n",
    "            \"Means_Lognormal\": [500, 500, 500, 500],\n",
    "            \"Std_devs_Lognormal\":[60, 30, 60, 30],\n",
    "            \"N_players\": N_players,\n",
    "            \"tau\": tau,\n",
    "            \"Entry_fee\": Entry_fee,\n",
    "            \"Platform_fee_fraction\": Platform_fee_fraction,\n",
    "            \"correlation\": correlation,\n",
    "            \"Analytic_Error_Bound\": Analytic_Error_Bound\n",
    "        },\n",
    "        \"Unequal-mean_Unequal-std\":\n",
    "        {\n",
    "            \"N_experts\": N_experts,\n",
    "            \"Means_Lognormal\": [440, 473, 517, 550],\n",
    "            \"Std_devs_Lognormal\":[60, 30, 60, 30],\n",
    "            \"N_players\": N_players,\n",
    "            \"tau\": tau,\n",
    "            \"Entry_fee\": Entry_fee,\n",
    "            \"Platform_fee_fraction\": Platform_fee_fraction,\n",
    "            \"correlation\": correlation,\n",
    "            \"Analytic_Error_Bound\": Analytic_Error_Bound\n",
    "        }\n",
    "    }\n",
    "    L={}\n",
    "    for Config in configs.keys():\n",
    "        N_experts = configs[Config][\"N_experts\"]\n",
    "        Means_Lognormal = configs[Config][\"Means_Lognormal\"]\n",
    "        Std_devs_Lognormal = configs[Config][\"Std_devs_Lognormal\"]\n",
    "        N_players = configs[Config][\"N_players\"]\n",
    "        tau = configs[Config][\"tau\"]\n",
    "        Entry_fee = configs[Config][\"Entry_fee\"]\n",
    "        Platform_fee_fraction = configs[Config][\"Platform_fee_fraction\"]\n",
    "        correlation = configs[Config][\"correlation\"]\n",
    "        Analytic_Error_Bound = configs[Config][\"Analytic_Error_Bound\"]\n",
    "        L[Config]=Expert_Team_Selection(\n",
    "            N_experts=N_experts,\n",
    "            N_players=N_players,\n",
    "            tau=tau,\n",
    "            Entry_fee=Entry_fee,\n",
    "            Platform_fee_fraction=Platform_fee_fraction,\n",
    "            Means_Lognormal=Means_Lognormal,\n",
    "            Std_devs_Lognormal=Std_devs_Lognormal,\n",
    "            correlation=correlation,\n",
    "            Analytic_error_bound=Analytic_Error_Bound\n",
    "        )\n",
    "        L[Config]={\"Team_Selector\":L[Config],\"Highest Probability Team\":int(np.argmax(np.array(L[Config].win_prob_team)))+1}       \n",
    "    # Define the output directory\n",
    "    Mapping[(Tau,Error_Bound)]=L    \n",
    "    Winnings={}\n",
    "    for Configuration in configs.keys():\n",
    "        Winnings[Configuration]=L[Configuration][\"Team_Selector\"].run_simulation(Total_iterations=10000)\n",
    "    # Save the results\n",
    "    results = {\n",
    "        \"configs\": configs,\n",
    "        \"Winnings\": Winnings\n",
    "    }\n",
    "    \n",
    "    # Define the output directory\n",
    "    output_dir = Path(f\"{folder}/Simulation_Results_Tau={Tau}_Error_Bound={Error_Bound}\")\n",
    "    output_dir.mkdir(parents=True, exist_ok=True)\n",
    "    # Define the output file path\n",
    "    with pd.ExcelWriter(f\"{output_dir}/Simulation_Output.xlsx\", engine=\"openpyxl\") as writer:\n",
    "        for sheet_name, df in Winnings.items():\n",
    "            df.to_excel(writer, sheet_name=sheet_name, index=False)\n",
    "    input_dir = output_dir\n",
    "    data=pd.read_excel(f\"{input_dir}/Simulation_Output.xlsx\", sheet_name=None)\n",
    "    Export_summary = {}\n",
    "    Log_odds = {}\n",
    "    for Config in data.keys():\n",
    "        K = data[Config]\n",
    "        Stat = pd.DataFrame()\n",
    "        log = pd.DataFrame()\n",
    "        \n",
    "        # Winnings stats\n",
    "        for i in range(1, N_experts + 1):\n",
    "            l = K[f\"Winnings_{i}\"][K[f\"Winnings_{i}\"] != 0].describe().round(3)\n",
    "            l.loc[\"n_zeros\"] = N_iterations - l[\"count\"]\n",
    "            l.loc[\"Mean (including zeros)\"] = K[f\"Winnings_{i}\"].mean()\n",
    "            l.loc[\"Selection Ratio (Weighted) (Analytical/Random)\"]=\"NA\"\n",
    "            Stat[f\"Expert {i} Winnings (Non-zero)\"] = l\n",
    "\n",
    "        # Total selections\n",
    "        \n",
    "\n",
    "        # Analytical\n",
    "        for i in range(1, N_experts + 1):\n",
    "            l = K[f\"Analytical_{i}\"].describe().round(3)\n",
    "            l.loc[\"n_zeros\"] = \"NA\"\n",
    "            l.loc[\"Mean (including zeros)\"] = \"NA\"\n",
    "            l.loc[\"Selection Ratio (Weighted) (Analytical/Random)\"]=\"NA\"\n",
    "            Stat[f\"Analytical_{i}\"] = l\n",
    "\n",
    "        # Random\n",
    "        for i in range(1, N_experts + 1):\n",
    "            l = K[f\"Random_{i}\"].describe().round(3)\n",
    "            l.loc[\"n_zeros\"] = \"NA\"\n",
    "            l.loc[\"Mean (including zeros)\"] = \"NA\"\n",
    "            l.loc[\"Selection Ratio (Weighted) (Analytical/Random)\"]=\"NA\"\n",
    "            Stat[f\"Random_{i}\"] = l\n",
    "\n",
    "        # Log-odds (really, log of ratio between means)\n",
    "        for i in range(1, N_experts + 1):\n",
    "            ratio = (Stat.loc[\"mean\", f\"Analytical_{i}\"] / Stat.loc[\"mean\", f\"Random_{i}\"])*(1-Tau)/Tau\n",
    "            #log_ratio = np.log(ratio)\n",
    "            log[f\"Expert {i}\"] = pd.Series(ratio)\n",
    "        for i in range(1, N_experts + 1):\n",
    "            l = K[f\"Total_{i}\"].describe().round(3)\n",
    "            l.loc[\"n_zeros\"] = \"NA\"\n",
    "            l.loc[\"Mean (including zeros)\"] = \"NA\"\n",
    "            l.loc[\"Selection Ratio (Weighted) (Analytical/Random)\"] = float(log[f\"Expert {i}\"].iloc[0])\n",
    "            Stat[f\"Total_Sel_{i}\"] = l\n",
    "\n",
    "        ordered_cols = []\n",
    "\n",
    "    # Group all winnings together\n",
    "        for i in range(1, N_experts + 1):\n",
    "            ordered_cols.append(f\"Expert {i} Winnings (Non-zero)\")\n",
    "\n",
    "        # Then all totals\n",
    "        for i in range(1, N_experts + 1):\n",
    "            ordered_cols.append(f\"Total_Sel_{i}\")\n",
    "\n",
    "        # Then all analytical\n",
    "        for i in range(1, N_experts + 1):\n",
    "            ordered_cols.append(f\"Analytical_{i}\")\n",
    "\n",
    "        # Then all random\n",
    "        for i in range(1, N_experts + 1):\n",
    "            ordered_cols.append(f\"Random_{i}\")\n",
    "\n",
    "        # Apply the reordering\n",
    "        Stat = Stat[ordered_cols]\n",
    "        Export_summary[Config] = Stat\n",
    "    with pd.ExcelWriter(f\"{input_dir}/Summary.xlsx\", engine=\"openpyxl\") as writer:\n",
    "        for sheet_name, df in Export_summary.items():\n",
    "            df.to_excel(writer, sheet_name=sheet_name, index=True)\n",
    "    for Team_set_type in data.keys():\n",
    "        directory = Path(f\"{input_dir}/Plots\")\n",
    "        directory.mkdir(parents=True, exist_ok=True)\n",
    "        \n",
    "        fig, axs = plt.subplots(3, 2, figsize=(16, 18))\n",
    "        fig.suptitle(f'Expert Team Distributions for {Team_set_type} (Error Bound: {Error_Bound}, Tau: {Tau})', fontsize=16)\n",
    "\n",
    "        # 1. Winnings\n",
    "        ax = axs[0, 0]\n",
    "        ax.set_title('Winnings (Zeros not included)')\n",
    "        for i in range(1, N_experts + 1):\n",
    "            series = data[Team_set_type][f\"Winnings_{i}\"]\n",
    "            series = series[series > 0]\n",
    "            series.plot(kind='kde', label=f'Expert {i}', alpha=0.8, ax=ax)\n",
    "        ax.set_xlabel(\"Winnings\")\n",
    "        ax.grid(True)\n",
    "        ax.legend()\n",
    "        ax = axs[0, 1]\n",
    "        ax.set_title('Winnings (Zeros included)')\n",
    "        for i in range(1, N_experts + 1):\n",
    "            series = data[Team_set_type][f\"Winnings_{i}\"]\n",
    "            #series = series[series > 0]\n",
    "            series.plot(kind='kde', label=f'Expert {i}', alpha=0.8, ax=ax)\n",
    "        ax.set_xlabel(\"Winnings\")\n",
    "        ax.grid(True)\n",
    "        ax.legend()\n",
    "        # 2. Total Selections\n",
    "        ax = axs[1,0]\n",
    "        ax.set_title('Total Selections')\n",
    "        for i in range(1, N_experts + 1):\n",
    "            series = data[Team_set_type][f\"Total_{i}\"]\n",
    "            #series = series[series > 0]\n",
    "            series.plot(kind='kde', label=f'Expert {i}', alpha=0.8, ax=ax)\n",
    "        ax.set_xlabel(\"Selections\")\n",
    "        ax.grid(True)\n",
    "        ax.legend()\n",
    "\n",
    "        # 3. Analytical Selections\n",
    "        ax = axs[1, 1]\n",
    "        ax.set_title('Analytical Selections')\n",
    "        for i in range(1, N_experts + 1):\n",
    "            series = data[Team_set_type][f\"Analytical_{i}\"]\n",
    "            #series = series[series > 0]\n",
    "            series.plot(kind='kde', label=f'Expert {i}', alpha=0.8, ax=ax)\n",
    "        ax.set_xlabel(\"Selections\")\n",
    "        ax.grid(True)\n",
    "        ax.legend()\n",
    "\n",
    "        # 4. Random Selections\n",
    "        ax = axs[2, 0]\n",
    "        ax.set_title('Random Selections')\n",
    "        for i in range(1, N_experts + 1):\n",
    "            series = data[Team_set_type][f\"Random_{i}\"]\n",
    "            #series = series[series > 0]\n",
    "            series.plot(kind='kde', label=f'Expert {i}', alpha=0.8, ax=ax)\n",
    "        ax.set_xlabel(\"Selections\")\n",
    "        ax.grid(True)\n",
    "        ax.legend()\n",
    "        fig.delaxes(axs[2,1])\n",
    "        # Final layout and save\n",
    "        plt.tight_layout(rect=[0, 0, 1, 0.96])\n",
    "        plt.savefig(f\"{directory}/Summary_{Team_set_type}.png\", bbox_inches=\"tight\")\n",
    "        plt.close()\n",
    "    P_value={}\n",
    "    for Team_set_type in data.keys():\n",
    "        Stat={}\n",
    "        directory = input_dir\n",
    "        for i in range(1, N_experts + 1):\n",
    "            # Extract the winnings data for the two groups\n",
    "            Stat[f\"Expert_{i}\"] = {}\n",
    "            for j in [\"Total\", \"Analytical\", \"Random\"]:\n",
    "                data1 = data[Team_set_type][f\"{j}_{i}\"][data[Team_set_type][f\"Winnings_{i}\"] > 0]\n",
    "                data2 = data[Team_set_type][f\"{j}_{i}\"][data[Team_set_type][f\"Winnings_{i}\"] == 0]\n",
    "                \n",
    "                # Perform the two-sample KS test\n",
    "                statistic, p_value = ks_2samp(data1, data2)\n",
    "                Stat[f\"Expert_{i}\"][j] = p_value\n",
    "        P_value[Team_set_type] = pd.DataFrame(Stat)\n",
    "        with pd.ExcelWriter(f\"{directory}/P_value.xlsx\", engine=\"openpyxl\") as writer:\n",
    "            for sheet_name, df in P_value.items():\n",
    "                df.to_excel(writer, sheet_name=sheet_name, index=True)\n",
    "    "
   ]
  },
  {
   "cell_type": "code",
   "execution_count": null,
   "id": "747eae20",
   "metadata": {},
   "outputs": [
    {
     "data": {
      "application/vnd.plotly.v1+json": {
       "config": {
        "plotlyServerURL": "https://plot.ly"
       },
       "data": [
        {
         "hovertemplate": "Equi-mean_Equivariance (Best: Team 3)<br>Error Bound=%{x}<br>Winnings=%{y:.2f}<extra></extra>",
         "legendgroup": "Equi-mean_Equivariance",
         "line": {
          "color": "#636EFA",
          "width": 3
         },
         "marker": {
          "size": 8
         },
         "mode": "lines+markers",
         "name": "Equi-mean_Equivariance (Best: Team 3)",
         "type": "scatter",
         "x": [
          0.02,
          0.06,
          0.1,
          0.14
         ],
         "xaxis": "x",
         "y": [
          18.50009049471652,
          21.19418400201779,
          20.16809128443778,
          21.55797439204031
         ],
         "yaxis": "y"
        },
        {
         "hovertemplate": "Equi-mean_Equivariance (Best: Team 3)<br>Error Bound=%{x}<br>Sel. Ratio=%{y:.2f}<extra></extra>",
         "legendgroup": "Equi-mean_Equivariance",
         "line": {
          "color": "#636EFA",
          "dash": "dot",
          "width": 3
         },
         "marker": {
          "size": 8
         },
         "mode": "lines+markers",
         "name": "Equi-mean_Equivariance (Best: Team 3)",
         "showlegend": false,
         "type": "scatter",
         "x": [
          0.02,
          0.06,
          0.1,
          0.14
         ],
         "xaxis": "x2",
         "y": [
          1.005816795873367,
          1.000934696223727,
          1.015646313086737,
          1.00663395722328
         ],
         "yaxis": "y2"
        },
        {
         "hovertemplate": "Unequal-mean_Equivariance (Best: Team 4)<br>Error Bound=%{x}<br>Winnings=%{y:.2f}<extra></extra>",
         "legendgroup": "Unequal-mean_Equivariance",
         "line": {
          "color": "#EF553B",
          "width": 3
         },
         "marker": {
          "size": 8
         },
         "mode": "lines+markers",
         "name": "Unequal-mean_Equivariance (Best: Team 4)",
         "type": "scatter",
         "x": [
          0.02,
          0.06,
          0.1,
          0.14
         ],
         "xaxis": "x",
         "y": [
          36.44279117330104,
          35.26624814969196,
          36.3836163379822,
          37.25789562399311
         ],
         "yaxis": "y"
        },
        {
         "hovertemplate": "Unequal-mean_Equivariance (Best: Team 4)<br>Error Bound=%{x}<br>Sel. Ratio=%{y:.2f}<extra></extra>",
         "legendgroup": "Unequal-mean_Equivariance",
         "line": {
          "color": "#EF553B",
          "dash": "dot",
          "width": 3
         },
         "marker": {
          "size": 8
         },
         "mode": "lines+markers",
         "name": "Unequal-mean_Equivariance (Best: Team 4)",
         "showlegend": false,
         "type": "scatter",
         "x": [
          0.02,
          0.06,
          0.1,
          0.14
         ],
         "xaxis": "x2",
         "y": [
          2.298570757028695,
          2.287422409676906,
          2.284936044539341,
          2.292715683130212
         ],
         "yaxis": "y2"
        },
        {
         "hovertemplate": "Equi-mean_Unequal-std (Best: Team 1)<br>Error Bound=%{x}<br>Winnings=%{y:.2f}<extra></extra>",
         "legendgroup": "Equi-mean_Unequal-std",
         "line": {
          "color": "#00CC96",
          "width": 3
         },
         "marker": {
          "size": 8
         },
         "mode": "lines+markers",
         "name": "Equi-mean_Unequal-std (Best: Team 1)",
         "type": "scatter",
         "x": [
          0.02,
          0.06,
          0.1,
          0.14
         ],
         "xaxis": "x",
         "y": [
          24.86089557726253,
          23.50682315841823,
          23.58591918502701,
          24.76080125291565
         ],
         "yaxis": "y"
        },
        {
         "hovertemplate": "Equi-mean_Unequal-std (Best: Team 1)<br>Error Bound=%{x}<br>Sel. Ratio=%{y:.2f}<extra></extra>",
         "legendgroup": "Equi-mean_Unequal-std",
         "line": {
          "color": "#00CC96",
          "dash": "dot",
          "width": 3
         },
         "marker": {
          "size": 8
         },
         "mode": "lines+markers",
         "name": "Equi-mean_Unequal-std (Best: Team 1)",
         "showlegend": false,
         "type": "scatter",
         "x": [
          0.02,
          0.06,
          0.1,
          0.14
         ],
         "xaxis": "x2",
         "y": [
          1.195793430233721,
          1.188926857823296,
          1.189609973784795,
          1.178050640862659
         ],
         "yaxis": "y2"
        },
        {
         "hovertemplate": "Unequal-mean_Unequal-std (Best: Team 4)<br>Error Bound=%{x}<br>Winnings=%{y:.2f}<extra></extra>",
         "legendgroup": "Unequal-mean_Unequal-std",
         "line": {
          "color": "#AB63FA",
          "width": 3
         },
         "marker": {
          "size": 8
         },
         "mode": "lines+markers",
         "name": "Unequal-mean_Unequal-std (Best: Team 4)",
         "type": "scatter",
         "x": [
          0.02,
          0.06,
          0.1,
          0.14
         ],
         "xaxis": "x",
         "y": [
          38.88293548901112,
          38.67538892760746,
          41.80604800898203,
          40.37919390902519
         ],
         "yaxis": "y"
        },
        {
         "hovertemplate": "Unequal-mean_Unequal-std (Best: Team 4)<br>Error Bound=%{x}<br>Sel. Ratio=%{y:.2f}<extra></extra>",
         "legendgroup": "Unequal-mean_Unequal-std",
         "line": {
          "color": "#AB63FA",
          "dash": "dot",
          "width": 3
         },
         "marker": {
          "size": 8
         },
         "mode": "lines+markers",
         "name": "Unequal-mean_Unequal-std (Best: Team 4)",
         "showlegend": false,
         "type": "scatter",
         "x": [
          0.02,
          0.06,
          0.1,
          0.14
         ],
         "xaxis": "x2",
         "y": [
          2.67123308218048,
          2.654814519544582,
          2.67748877574055,
          2.665740389036604
         ],
         "yaxis": "y2"
        }
       ],
       "layout": {
        "annotations": [
         {
          "font": {
           "size": 16
          },
          "showarrow": false,
          "text": "Mean Winnings vs Error Bound",
          "x": 0.225,
          "xanchor": "center",
          "xref": "paper",
          "y": 1,
          "yanchor": "bottom",
          "yref": "paper"
         },
         {
          "font": {
           "size": 16
          },
          "showarrow": false,
          "text": "Selection Ratio vs Error Bound",
          "x": 0.775,
          "xanchor": "center",
          "xref": "paper",
          "y": 1,
          "yanchor": "bottom",
          "yref": "paper"
         }
        ],
        "font": {
         "family": "Arial",
         "size": 14
        },
        "height": 520,
        "legend": {
         "bgcolor": "rgba(0,0,0,0)",
         "bordercolor": "rgba(0,0,0,0)",
         "orientation": "v",
         "x": 1.02,
         "y": 1
        },
        "margin": {
         "b": 50,
         "l": 60,
         "r": 20,
         "t": 70
        },
        "template": {
         "data": {
          "bar": [
           {
            "error_x": {
             "color": "#2a3f5f"
            },
            "error_y": {
             "color": "#2a3f5f"
            },
            "marker": {
             "line": {
              "color": "white",
              "width": 0.5
             },
             "pattern": {
              "fillmode": "overlay",
              "size": 10,
              "solidity": 0.2
             }
            },
            "type": "bar"
           }
          ],
          "barpolar": [
           {
            "marker": {
             "line": {
              "color": "white",
              "width": 0.5
             },
             "pattern": {
              "fillmode": "overlay",
              "size": 10,
              "solidity": 0.2
             }
            },
            "type": "barpolar"
           }
          ],
          "carpet": [
           {
            "aaxis": {
             "endlinecolor": "#2a3f5f",
             "gridcolor": "#C8D4E3",
             "linecolor": "#C8D4E3",
             "minorgridcolor": "#C8D4E3",
             "startlinecolor": "#2a3f5f"
            },
            "baxis": {
             "endlinecolor": "#2a3f5f",
             "gridcolor": "#C8D4E3",
             "linecolor": "#C8D4E3",
             "minorgridcolor": "#C8D4E3",
             "startlinecolor": "#2a3f5f"
            },
            "type": "carpet"
           }
          ],
          "choropleth": [
           {
            "colorbar": {
             "outlinewidth": 0,
             "ticks": ""
            },
            "type": "choropleth"
           }
          ],
          "contour": [
           {
            "colorbar": {
             "outlinewidth": 0,
             "ticks": ""
            },
            "colorscale": [
             [
              0,
              "#0d0887"
             ],
             [
              0.1111111111111111,
              "#46039f"
             ],
             [
              0.2222222222222222,
              "#7201a8"
             ],
             [
              0.3333333333333333,
              "#9c179e"
             ],
             [
              0.4444444444444444,
              "#bd3786"
             ],
             [
              0.5555555555555556,
              "#d8576b"
             ],
             [
              0.6666666666666666,
              "#ed7953"
             ],
             [
              0.7777777777777778,
              "#fb9f3a"
             ],
             [
              0.8888888888888888,
              "#fdca26"
             ],
             [
              1,
              "#f0f921"
             ]
            ],
            "type": "contour"
           }
          ],
          "contourcarpet": [
           {
            "colorbar": {
             "outlinewidth": 0,
             "ticks": ""
            },
            "type": "contourcarpet"
           }
          ],
          "heatmap": [
           {
            "colorbar": {
             "outlinewidth": 0,
             "ticks": ""
            },
            "colorscale": [
             [
              0,
              "#0d0887"
             ],
             [
              0.1111111111111111,
              "#46039f"
             ],
             [
              0.2222222222222222,
              "#7201a8"
             ],
             [
              0.3333333333333333,
              "#9c179e"
             ],
             [
              0.4444444444444444,
              "#bd3786"
             ],
             [
              0.5555555555555556,
              "#d8576b"
             ],
             [
              0.6666666666666666,
              "#ed7953"
             ],
             [
              0.7777777777777778,
              "#fb9f3a"
             ],
             [
              0.8888888888888888,
              "#fdca26"
             ],
             [
              1,
              "#f0f921"
             ]
            ],
            "type": "heatmap"
           }
          ],
          "histogram": [
           {
            "marker": {
             "pattern": {
              "fillmode": "overlay",
              "size": 10,
              "solidity": 0.2
             }
            },
            "type": "histogram"
           }
          ],
          "histogram2d": [
           {
            "colorbar": {
             "outlinewidth": 0,
             "ticks": ""
            },
            "colorscale": [
             [
              0,
              "#0d0887"
             ],
             [
              0.1111111111111111,
              "#46039f"
             ],
             [
              0.2222222222222222,
              "#7201a8"
             ],
             [
              0.3333333333333333,
              "#9c179e"
             ],
             [
              0.4444444444444444,
              "#bd3786"
             ],
             [
              0.5555555555555556,
              "#d8576b"
             ],
             [
              0.6666666666666666,
              "#ed7953"
             ],
             [
              0.7777777777777778,
              "#fb9f3a"
             ],
             [
              0.8888888888888888,
              "#fdca26"
             ],
             [
              1,
              "#f0f921"
             ]
            ],
            "type": "histogram2d"
           }
          ],
          "histogram2dcontour": [
           {
            "colorbar": {
             "outlinewidth": 0,
             "ticks": ""
            },
            "colorscale": [
             [
              0,
              "#0d0887"
             ],
             [
              0.1111111111111111,
              "#46039f"
             ],
             [
              0.2222222222222222,
              "#7201a8"
             ],
             [
              0.3333333333333333,
              "#9c179e"
             ],
             [
              0.4444444444444444,
              "#bd3786"
             ],
             [
              0.5555555555555556,
              "#d8576b"
             ],
             [
              0.6666666666666666,
              "#ed7953"
             ],
             [
              0.7777777777777778,
              "#fb9f3a"
             ],
             [
              0.8888888888888888,
              "#fdca26"
             ],
             [
              1,
              "#f0f921"
             ]
            ],
            "type": "histogram2dcontour"
           }
          ],
          "mesh3d": [
           {
            "colorbar": {
             "outlinewidth": 0,
             "ticks": ""
            },
            "type": "mesh3d"
           }
          ],
          "parcoords": [
           {
            "line": {
             "colorbar": {
              "outlinewidth": 0,
              "ticks": ""
             }
            },
            "type": "parcoords"
           }
          ],
          "pie": [
           {
            "automargin": true,
            "type": "pie"
           }
          ],
          "scatter": [
           {
            "fillpattern": {
             "fillmode": "overlay",
             "size": 10,
             "solidity": 0.2
            },
            "type": "scatter"
           }
          ],
          "scatter3d": [
           {
            "line": {
             "colorbar": {
              "outlinewidth": 0,
              "ticks": ""
             }
            },
            "marker": {
             "colorbar": {
              "outlinewidth": 0,
              "ticks": ""
             }
            },
            "type": "scatter3d"
           }
          ],
          "scattercarpet": [
           {
            "marker": {
             "colorbar": {
              "outlinewidth": 0,
              "ticks": ""
             }
            },
            "type": "scattercarpet"
           }
          ],
          "scattergeo": [
           {
            "marker": {
             "colorbar": {
              "outlinewidth": 0,
              "ticks": ""
             }
            },
            "type": "scattergeo"
           }
          ],
          "scattergl": [
           {
            "marker": {
             "colorbar": {
              "outlinewidth": 0,
              "ticks": ""
             }
            },
            "type": "scattergl"
           }
          ],
          "scattermap": [
           {
            "marker": {
             "colorbar": {
              "outlinewidth": 0,
              "ticks": ""
             }
            },
            "type": "scattermap"
           }
          ],
          "scattermapbox": [
           {
            "marker": {
             "colorbar": {
              "outlinewidth": 0,
              "ticks": ""
             }
            },
            "type": "scattermapbox"
           }
          ],
          "scatterpolar": [
           {
            "marker": {
             "colorbar": {
              "outlinewidth": 0,
              "ticks": ""
             }
            },
            "type": "scatterpolar"
           }
          ],
          "scatterpolargl": [
           {
            "marker": {
             "colorbar": {
              "outlinewidth": 0,
              "ticks": ""
             }
            },
            "type": "scatterpolargl"
           }
          ],
          "scatterternary": [
           {
            "marker": {
             "colorbar": {
              "outlinewidth": 0,
              "ticks": ""
             }
            },
            "type": "scatterternary"
           }
          ],
          "surface": [
           {
            "colorbar": {
             "outlinewidth": 0,
             "ticks": ""
            },
            "colorscale": [
             [
              0,
              "#0d0887"
             ],
             [
              0.1111111111111111,
              "#46039f"
             ],
             [
              0.2222222222222222,
              "#7201a8"
             ],
             [
              0.3333333333333333,
              "#9c179e"
             ],
             [
              0.4444444444444444,
              "#bd3786"
             ],
             [
              0.5555555555555556,
              "#d8576b"
             ],
             [
              0.6666666666666666,
              "#ed7953"
             ],
             [
              0.7777777777777778,
              "#fb9f3a"
             ],
             [
              0.8888888888888888,
              "#fdca26"
             ],
             [
              1,
              "#f0f921"
             ]
            ],
            "type": "surface"
           }
          ],
          "table": [
           {
            "cells": {
             "fill": {
              "color": "#EBF0F8"
             },
             "line": {
              "color": "white"
             }
            },
            "header": {
             "fill": {
              "color": "#C8D4E3"
             },
             "line": {
              "color": "white"
             }
            },
            "type": "table"
           }
          ]
         },
         "layout": {
          "annotationdefaults": {
           "arrowcolor": "#2a3f5f",
           "arrowhead": 0,
           "arrowwidth": 1
          },
          "autotypenumbers": "strict",
          "coloraxis": {
           "colorbar": {
            "outlinewidth": 0,
            "ticks": ""
           }
          },
          "colorscale": {
           "diverging": [
            [
             0,
             "#8e0152"
            ],
            [
             0.1,
             "#c51b7d"
            ],
            [
             0.2,
             "#de77ae"
            ],
            [
             0.3,
             "#f1b6da"
            ],
            [
             0.4,
             "#fde0ef"
            ],
            [
             0.5,
             "#f7f7f7"
            ],
            [
             0.6,
             "#e6f5d0"
            ],
            [
             0.7,
             "#b8e186"
            ],
            [
             0.8,
             "#7fbc41"
            ],
            [
             0.9,
             "#4d9221"
            ],
            [
             1,
             "#276419"
            ]
           ],
           "sequential": [
            [
             0,
             "#0d0887"
            ],
            [
             0.1111111111111111,
             "#46039f"
            ],
            [
             0.2222222222222222,
             "#7201a8"
            ],
            [
             0.3333333333333333,
             "#9c179e"
            ],
            [
             0.4444444444444444,
             "#bd3786"
            ],
            [
             0.5555555555555556,
             "#d8576b"
            ],
            [
             0.6666666666666666,
             "#ed7953"
            ],
            [
             0.7777777777777778,
             "#fb9f3a"
            ],
            [
             0.8888888888888888,
             "#fdca26"
            ],
            [
             1,
             "#f0f921"
            ]
           ],
           "sequentialminus": [
            [
             0,
             "#0d0887"
            ],
            [
             0.1111111111111111,
             "#46039f"
            ],
            [
             0.2222222222222222,
             "#7201a8"
            ],
            [
             0.3333333333333333,
             "#9c179e"
            ],
            [
             0.4444444444444444,
             "#bd3786"
            ],
            [
             0.5555555555555556,
             "#d8576b"
            ],
            [
             0.6666666666666666,
             "#ed7953"
            ],
            [
             0.7777777777777778,
             "#fb9f3a"
            ],
            [
             0.8888888888888888,
             "#fdca26"
            ],
            [
             1,
             "#f0f921"
            ]
           ]
          },
          "colorway": [
           "#636efa",
           "#EF553B",
           "#00cc96",
           "#ab63fa",
           "#FFA15A",
           "#19d3f3",
           "#FF6692",
           "#B6E880",
           "#FF97FF",
           "#FECB52"
          ],
          "font": {
           "color": "#2a3f5f"
          },
          "geo": {
           "bgcolor": "white",
           "lakecolor": "white",
           "landcolor": "white",
           "showlakes": true,
           "showland": true,
           "subunitcolor": "#C8D4E3"
          },
          "hoverlabel": {
           "align": "left"
          },
          "hovermode": "closest",
          "mapbox": {
           "style": "light"
          },
          "paper_bgcolor": "white",
          "plot_bgcolor": "white",
          "polar": {
           "angularaxis": {
            "gridcolor": "#EBF0F8",
            "linecolor": "#EBF0F8",
            "ticks": ""
           },
           "bgcolor": "white",
           "radialaxis": {
            "gridcolor": "#EBF0F8",
            "linecolor": "#EBF0F8",
            "ticks": ""
           }
          },
          "scene": {
           "xaxis": {
            "backgroundcolor": "white",
            "gridcolor": "#DFE8F3",
            "gridwidth": 2,
            "linecolor": "#EBF0F8",
            "showbackground": true,
            "ticks": "",
            "zerolinecolor": "#EBF0F8"
           },
           "yaxis": {
            "backgroundcolor": "white",
            "gridcolor": "#DFE8F3",
            "gridwidth": 2,
            "linecolor": "#EBF0F8",
            "showbackground": true,
            "ticks": "",
            "zerolinecolor": "#EBF0F8"
           },
           "zaxis": {
            "backgroundcolor": "white",
            "gridcolor": "#DFE8F3",
            "gridwidth": 2,
            "linecolor": "#EBF0F8",
            "showbackground": true,
            "ticks": "",
            "zerolinecolor": "#EBF0F8"
           }
          },
          "shapedefaults": {
           "line": {
            "color": "#2a3f5f"
           }
          },
          "ternary": {
           "aaxis": {
            "gridcolor": "#DFE8F3",
            "linecolor": "#A2B1C6",
            "ticks": ""
           },
           "baxis": {
            "gridcolor": "#DFE8F3",
            "linecolor": "#A2B1C6",
            "ticks": ""
           },
           "bgcolor": "white",
           "caxis": {
            "gridcolor": "#DFE8F3",
            "linecolor": "#A2B1C6",
            "ticks": ""
           }
          },
          "title": {
           "x": 0.05
          },
          "xaxis": {
           "automargin": true,
           "gridcolor": "#EBF0F8",
           "linecolor": "#EBF0F8",
           "ticks": "",
           "title": {
            "standoff": 15
           },
           "zerolinecolor": "#EBF0F8",
           "zerolinewidth": 2
          },
          "yaxis": {
           "automargin": true,
           "gridcolor": "#EBF0F8",
           "linecolor": "#EBF0F8",
           "ticks": "",
           "title": {
            "standoff": 15
           },
           "zerolinecolor": "#EBF0F8",
           "zerolinewidth": 2
          }
         }
        },
        "title": {
         "text": "<b>Error Bound Sensitivity Analysis (Tau = 0.2)</b>",
         "x": 0.5
        },
        "width": 1150,
        "xaxis": {
         "anchor": "y",
         "domain": [
          0,
          0.45
         ],
         "tickmode": "array",
         "ticktext": [
          "0.02",
          "0.06",
          "0.1",
          "0.14"
         ],
         "tickvals": [
          0.02,
          0.06,
          0.1,
          0.14
         ],
         "title": {
          "text": "Error Bound"
         }
        },
        "xaxis2": {
         "anchor": "y2",
         "domain": [
          0.55,
          1
         ],
         "tickmode": "array",
         "ticktext": [
          "0.02",
          "0.06",
          "0.1",
          "0.14"
         ],
         "tickvals": [
          0.02,
          0.06,
          0.1,
          0.14
         ],
         "title": {
          "text": "Error Bound"
         }
        },
        "yaxis": {
         "anchor": "x",
         "domain": [
          0,
          1
         ],
         "title": {
          "text": "Mean Winnings"
         }
        },
        "yaxis2": {
         "anchor": "x2",
         "domain": [
          0,
          1
         ],
         "title": {
          "text": "Selection Ratio"
         }
        }
       }
      }
     },
     "metadata": {},
     "output_type": "display_data"
    }
   ],
   "source": [
    "# Step 1: Load Data\n",
    "Error_Bounds = [0.02, 0.06, 0.1, 0.14]\n",
    "Tau = 0.2\n",
    "Data = {}\n",
    "\n",
    "for Error in Error_Bounds:\n",
    "    input_dir = Path(f\"Two Dimensions/Simulation_Results_Tau={Tau}_Error_Bound={Error}\")\n",
    "    Data[Error] = pd.read_excel(f\"{input_dir}/Summary.xlsx\", sheet_name=None)\n",
    "    for sheet in Data[Error].keys():\n",
    "        Data[Error][sheet] = Data[Error][sheet].set_index(\"Unnamed: 0\")\n",
    "\n",
    "# Step 2: Setup\n",
    "config_names = list(configs.keys())\n",
    "\n",
    "# Nice color palette\n",
    "nice_colors = [\n",
    "    \"#636EFA\", \"#EF553B\", \"#00CC96\", \"#AB63FA\",\n",
    "    \"#FFA15A\", \"#19D3F3\", \"#FF6692\", \"#B6E880\"\n",
    "]\n",
    "color_map = {cfg: nice_colors[i % len(nice_colors)] for i, cfg in enumerate(config_names)}\n",
    "\n",
    "# Step 3: Create Subplots\n",
    "fig = make_subplots(\n",
    "    rows=1, cols=2,\n",
    "    subplot_titles=[\n",
    "        \"Mean Winnings vs Error Bound\",\n",
    "        \"Selection Ratio vs Error Bound\"\n",
    "    ],\n",
    "    horizontal_spacing=0.1\n",
    ")\n",
    "\n",
    "# Step 4: Add Traces\n",
    "for config in config_names:\n",
    "    Best = Mapping[(Tau,Error_Bounds[0])][config][\"Highest Probability Team\"]\n",
    "    label = f\"{config} (Best: Team {Best})\"\n",
    "\n",
    "    winnings = [\n",
    "        Data[err][config][f\"Expert {Best} Winnings (Non-zero)\"].loc['Mean (including zeros)']\n",
    "        for err in Error_Bounds\n",
    "    ]\n",
    "    ratios = [\n",
    "        Data[err][config][f\"Total_Sel_{Best}\"].loc['Selection Ratio (Weighted) (Analytical/Random)']\n",
    "        for err in Error_Bounds\n",
    "    ]\n",
    "\n",
    "    # Plot: Mean Winnings\n",
    "    fig.add_trace(\n",
    "        go.Scatter(\n",
    "            x=Error_Bounds,\n",
    "            y=winnings,\n",
    "            mode='lines+markers',\n",
    "            name=label,\n",
    "            line=dict(color=color_map[config], width=3),\n",
    "            marker=dict(size=8),\n",
    "            legendgroup=config,\n",
    "            hovertemplate=f\"{label}<br>Error Bound=%{{x}}<br>Winnings=%{{y:.2f}}<extra></extra>\"\n",
    "        ),\n",
    "        row=1, col=1\n",
    "    )\n",
    "\n",
    "    # Plot: Selection Ratio\n",
    "    fig.add_trace(\n",
    "        go.Scatter(\n",
    "            x=Error_Bounds,\n",
    "            y=ratios,\n",
    "            mode='lines+markers',\n",
    "            name=label,\n",
    "            line=dict(color=color_map[config], width=3, dash='dot'),\n",
    "            marker=dict(size=8),\n",
    "            legendgroup=config,\n",
    "            showlegend=False,  # only show once\n",
    "            hovertemplate=f\"{label}<br>Error Bound=%{{x}}<br>Sel. Ratio=%{{y:.2f}}<extra></extra>\"\n",
    "        ),\n",
    "        row=1, col=2\n",
    "    )\n",
    "\n",
    "# Step 5: Layout\n",
    "fig.update_layout(\n",
    "    title=f\"<b>Error Bound Sensitivity Analysis (Tau = {Tau})</b>\",\n",
    "    title_x=0.5,\n",
    "    template=\"plotly_white\",\n",
    "    width=1150,\n",
    "    height=520,\n",
    "    #hovermode=\"x unified\",\n",
    "    font=dict(size=14, family=\"Arial\"),\n",
    "    margin=dict(l=60, r=20, t=70, b=50),\n",
    "    legend=dict(\n",
    "        orientation=\"v\",\n",
    "        x=1.02,\n",
    "        y=1,\n",
    "        bgcolor='rgba(0,0,0,0)',\n",
    "        bordercolor='rgba(0,0,0,0)'\n",
    "    )\n",
    ")\n",
    "\n",
    "# Step 6: Axes\n",
    "fig.update_xaxes(\n",
    "    title_text=\"Error Bound\",\n",
    "    tickmode=\"array\",\n",
    "    tickvals=Error_Bounds,\n",
    "    ticktext=[str(e) for e in Error_Bounds],\n",
    "    row=1, col=1\n",
    ")\n",
    "fig.update_yaxes(title_text=\"Mean Winnings\", row=1, col=1)\n",
    "\n",
    "fig.update_xaxes(\n",
    "    title_text=\"Error Bound\",\n",
    "    tickmode=\"array\",\n",
    "    tickvals=Error_Bounds,\n",
    "    ticktext=[str(e) for e in Error_Bounds],\n",
    "    row=1, col=2\n",
    ")\n",
    "fig.update_yaxes(title_text=\"Selection Ratio\", row=1, col=2)\n",
    "\n",
    "# Step 7: Save + Show\n",
    "output_dir = Path(\"Two Dimensions\")\n",
    "output_dir.mkdir(parents=True, exist_ok=True)\n",
    "fig.write_html(str(output_dir / \"Error_Bound_Comparison_Tau=0.2.html\"))\n",
    "fig.show()"
   ]
  },
  {
   "cell_type": "code",
   "execution_count": null,
   "id": "bf10bf07",
   "metadata": {},
   "outputs": [
    {
     "data": {
      "application/vnd.plotly.v1+json": {
       "config": {
        "plotlyServerURL": "https://plot.ly"
       },
       "data": [
        {
         "hovertemplate": "Equi-mean_Equivariance (Best Teams: 1 → 3 → 1 → 2)<br>Tau=%{x}<br>Winnings=%{y:.2f}<extra></extra>",
         "legendgroup": "Equi-mean_Equivariance",
         "line": {
          "color": "#636EFA",
          "width": 3
         },
         "marker": {
          "size": 8
         },
         "mode": "lines+markers",
         "name": "Equi-mean_Equivariance (Best Teams: 1 → 3 → 1 → 2)",
         "type": "scatter",
         "x": [
          0.1,
          0.2,
          0.3,
          0.4
         ],
         "xaxis": "x",
         "y": [
          20.15868615504558,
          20.16809128443778,
          20.78361947078915,
          21.04588633131579
         ],
         "yaxis": "y"
        },
        {
         "hovertemplate": "Equi-mean_Equivariance (Best Teams: 1 → 3 → 1 → 2)<br>Tau=%{x}<br>Sel. Ratio=%{y:.2f}<extra></extra>",
         "legendgroup": "Equi-mean_Equivariance",
         "line": {
          "color": "#636EFA",
          "dash": "dot",
          "width": 3
         },
         "marker": {
          "size": 8
         },
         "mode": "lines+markers",
         "name": "Equi-mean_Equivariance (Best Teams: 1 → 3 → 1 → 2)",
         "showlegend": false,
         "type": "scatter",
         "x": [
          0.1,
          0.2,
          0.3,
          0.4
         ],
         "xaxis": "x2",
         "y": [
          0.9997779958352018,
          1.015646313086737,
          1.002043927309267,
          1.006258186094999
         ],
         "yaxis": "y2"
        },
        {
         "hovertemplate": "Unequal-mean_Equivariance (Best Teams: 4 → 4 → 4 → 4)<br>Tau=%{x}<br>Winnings=%{y:.2f}<extra></extra>",
         "legendgroup": "Unequal-mean_Equivariance",
         "line": {
          "color": "#EF553B",
          "width": 3
         },
         "marker": {
          "size": 8
         },
         "mode": "lines+markers",
         "name": "Unequal-mean_Equivariance (Best Teams: 4 → 4 → 4 → 4)",
         "type": "scatter",
         "x": [
          0.1,
          0.2,
          0.3,
          0.4
         ],
         "xaxis": "x",
         "y": [
          40.55129287713472,
          36.3836163379822,
          33.64616964217823,
          29.48730952529541
         ],
         "yaxis": "y"
        },
        {
         "hovertemplate": "Unequal-mean_Equivariance (Best Teams: 4 → 4 → 4 → 4)<br>Tau=%{x}<br>Sel. Ratio=%{y:.2f}<extra></extra>",
         "legendgroup": "Unequal-mean_Equivariance",
         "line": {
          "color": "#EF553B",
          "dash": "dot",
          "width": 3
         },
         "marker": {
          "size": 8
         },
         "mode": "lines+markers",
         "name": "Unequal-mean_Equivariance (Best Teams: 4 → 4 → 4 → 4)",
         "showlegend": false,
         "type": "scatter",
         "x": [
          0.1,
          0.2,
          0.3,
          0.4
         ],
         "xaxis": "x2",
         "y": [
          2.294938670052429,
          2.284936044539341,
          2.290036563071298,
          2.301161378979107
         ],
         "yaxis": "y2"
        },
        {
         "hovertemplate": "Equi-mean_Unequal-std (Best Teams: 1 → 1 → 3 → 3)<br>Tau=%{x}<br>Winnings=%{y:.2f}<extra></extra>",
         "legendgroup": "Equi-mean_Unequal-std",
         "line": {
          "color": "#00CC96",
          "width": 3
         },
         "marker": {
          "size": 8
         },
         "mode": "lines+markers",
         "name": "Equi-mean_Unequal-std (Best Teams: 1 → 1 → 3 → 3)",
         "type": "scatter",
         "x": [
          0.1,
          0.2,
          0.3,
          0.4
         ],
         "xaxis": "x",
         "y": [
          23.66369800223512,
          23.58591918502701,
          22.62705210550923,
          22.6419132605071
         ],
         "yaxis": "y"
        },
        {
         "hovertemplate": "Equi-mean_Unequal-std (Best Teams: 1 → 1 → 3 → 3)<br>Tau=%{x}<br>Sel. Ratio=%{y:.2f}<extra></extra>",
         "legendgroup": "Equi-mean_Unequal-std",
         "line": {
          "color": "#00CC96",
          "dash": "dot",
          "width": 3
         },
         "marker": {
          "size": 8
         },
         "mode": "lines+markers",
         "name": "Equi-mean_Unequal-std (Best Teams: 1 → 1 → 3 → 3)",
         "showlegend": false,
         "type": "scatter",
         "x": [
          0.1,
          0.2,
          0.3,
          0.4
         ],
         "xaxis": "x2",
         "y": [
          1.185850593230145,
          1.189609973784795,
          1.187627940247624,
          1.189761467889908
         ],
         "yaxis": "y2"
        },
        {
         "hovertemplate": "Unequal-mean_Unequal-std (Best Teams: 4 → 4 → 4 → 4)<br>Tau=%{x}<br>Winnings=%{y:.2f}<extra></extra>",
         "legendgroup": "Unequal-mean_Unequal-std",
         "line": {
          "color": "#AB63FA",
          "width": 3
         },
         "marker": {
          "size": 8
         },
         "mode": "lines+markers",
         "name": "Unequal-mean_Unequal-std (Best Teams: 4 → 4 → 4 → 4)",
         "type": "scatter",
         "x": [
          0.1,
          0.2,
          0.3,
          0.4
         ],
         "xaxis": "x",
         "y": [
          46.09395510939288,
          41.80604800898203,
          35.26139483865205,
          31.44310188362661
         ],
         "yaxis": "y"
        },
        {
         "hovertemplate": "Unequal-mean_Unequal-std (Best Teams: 4 → 4 → 4 → 4)<br>Tau=%{x}<br>Sel. Ratio=%{y:.2f}<extra></extra>",
         "legendgroup": "Unequal-mean_Unequal-std",
         "line": {
          "color": "#AB63FA",
          "dash": "dot",
          "width": 3
         },
         "marker": {
          "size": 8
         },
         "mode": "lines+markers",
         "name": "Unequal-mean_Unequal-std (Best Teams: 4 → 4 → 4 → 4)",
         "showlegend": false,
         "type": "scatter",
         "x": [
          0.1,
          0.2,
          0.3,
          0.4
         ],
         "xaxis": "x2",
         "y": [
          2.667859998223328,
          2.67748877574055,
          2.667975716833585,
          2.663527191742459
         ],
         "yaxis": "y2"
        }
       ],
       "layout": {
        "annotations": [
         {
          "font": {
           "size": 16
          },
          "showarrow": false,
          "text": "Mean Winnings vs Tau",
          "x": 0.225,
          "xanchor": "center",
          "xref": "paper",
          "y": 1,
          "yanchor": "bottom",
          "yref": "paper"
         },
         {
          "font": {
           "size": 16
          },
          "showarrow": false,
          "text": "Selection Ratio vs Tau",
          "x": 0.775,
          "xanchor": "center",
          "xref": "paper",
          "y": 1,
          "yanchor": "bottom",
          "yref": "paper"
         }
        ],
        "font": {
         "family": "Arial",
         "size": 14
        },
        "height": 520,
        "hovermode": "closest",
        "legend": {
         "bgcolor": "rgba(0,0,0,0)",
         "bordercolor": "rgba(0,0,0,0)",
         "orientation": "v",
         "x": 1.02,
         "y": 1
        },
        "margin": {
         "b": 50,
         "l": 60,
         "r": 20,
         "t": 70
        },
        "template": {
         "data": {
          "bar": [
           {
            "error_x": {
             "color": "#2a3f5f"
            },
            "error_y": {
             "color": "#2a3f5f"
            },
            "marker": {
             "line": {
              "color": "white",
              "width": 0.5
             },
             "pattern": {
              "fillmode": "overlay",
              "size": 10,
              "solidity": 0.2
             }
            },
            "type": "bar"
           }
          ],
          "barpolar": [
           {
            "marker": {
             "line": {
              "color": "white",
              "width": 0.5
             },
             "pattern": {
              "fillmode": "overlay",
              "size": 10,
              "solidity": 0.2
             }
            },
            "type": "barpolar"
           }
          ],
          "carpet": [
           {
            "aaxis": {
             "endlinecolor": "#2a3f5f",
             "gridcolor": "#C8D4E3",
             "linecolor": "#C8D4E3",
             "minorgridcolor": "#C8D4E3",
             "startlinecolor": "#2a3f5f"
            },
            "baxis": {
             "endlinecolor": "#2a3f5f",
             "gridcolor": "#C8D4E3",
             "linecolor": "#C8D4E3",
             "minorgridcolor": "#C8D4E3",
             "startlinecolor": "#2a3f5f"
            },
            "type": "carpet"
           }
          ],
          "choropleth": [
           {
            "colorbar": {
             "outlinewidth": 0,
             "ticks": ""
            },
            "type": "choropleth"
           }
          ],
          "contour": [
           {
            "colorbar": {
             "outlinewidth": 0,
             "ticks": ""
            },
            "colorscale": [
             [
              0,
              "#0d0887"
             ],
             [
              0.1111111111111111,
              "#46039f"
             ],
             [
              0.2222222222222222,
              "#7201a8"
             ],
             [
              0.3333333333333333,
              "#9c179e"
             ],
             [
              0.4444444444444444,
              "#bd3786"
             ],
             [
              0.5555555555555556,
              "#d8576b"
             ],
             [
              0.6666666666666666,
              "#ed7953"
             ],
             [
              0.7777777777777778,
              "#fb9f3a"
             ],
             [
              0.8888888888888888,
              "#fdca26"
             ],
             [
              1,
              "#f0f921"
             ]
            ],
            "type": "contour"
           }
          ],
          "contourcarpet": [
           {
            "colorbar": {
             "outlinewidth": 0,
             "ticks": ""
            },
            "type": "contourcarpet"
           }
          ],
          "heatmap": [
           {
            "colorbar": {
             "outlinewidth": 0,
             "ticks": ""
            },
            "colorscale": [
             [
              0,
              "#0d0887"
             ],
             [
              0.1111111111111111,
              "#46039f"
             ],
             [
              0.2222222222222222,
              "#7201a8"
             ],
             [
              0.3333333333333333,
              "#9c179e"
             ],
             [
              0.4444444444444444,
              "#bd3786"
             ],
             [
              0.5555555555555556,
              "#d8576b"
             ],
             [
              0.6666666666666666,
              "#ed7953"
             ],
             [
              0.7777777777777778,
              "#fb9f3a"
             ],
             [
              0.8888888888888888,
              "#fdca26"
             ],
             [
              1,
              "#f0f921"
             ]
            ],
            "type": "heatmap"
           }
          ],
          "histogram": [
           {
            "marker": {
             "pattern": {
              "fillmode": "overlay",
              "size": 10,
              "solidity": 0.2
             }
            },
            "type": "histogram"
           }
          ],
          "histogram2d": [
           {
            "colorbar": {
             "outlinewidth": 0,
             "ticks": ""
            },
            "colorscale": [
             [
              0,
              "#0d0887"
             ],
             [
              0.1111111111111111,
              "#46039f"
             ],
             [
              0.2222222222222222,
              "#7201a8"
             ],
             [
              0.3333333333333333,
              "#9c179e"
             ],
             [
              0.4444444444444444,
              "#bd3786"
             ],
             [
              0.5555555555555556,
              "#d8576b"
             ],
             [
              0.6666666666666666,
              "#ed7953"
             ],
             [
              0.7777777777777778,
              "#fb9f3a"
             ],
             [
              0.8888888888888888,
              "#fdca26"
             ],
             [
              1,
              "#f0f921"
             ]
            ],
            "type": "histogram2d"
           }
          ],
          "histogram2dcontour": [
           {
            "colorbar": {
             "outlinewidth": 0,
             "ticks": ""
            },
            "colorscale": [
             [
              0,
              "#0d0887"
             ],
             [
              0.1111111111111111,
              "#46039f"
             ],
             [
              0.2222222222222222,
              "#7201a8"
             ],
             [
              0.3333333333333333,
              "#9c179e"
             ],
             [
              0.4444444444444444,
              "#bd3786"
             ],
             [
              0.5555555555555556,
              "#d8576b"
             ],
             [
              0.6666666666666666,
              "#ed7953"
             ],
             [
              0.7777777777777778,
              "#fb9f3a"
             ],
             [
              0.8888888888888888,
              "#fdca26"
             ],
             [
              1,
              "#f0f921"
             ]
            ],
            "type": "histogram2dcontour"
           }
          ],
          "mesh3d": [
           {
            "colorbar": {
             "outlinewidth": 0,
             "ticks": ""
            },
            "type": "mesh3d"
           }
          ],
          "parcoords": [
           {
            "line": {
             "colorbar": {
              "outlinewidth": 0,
              "ticks": ""
             }
            },
            "type": "parcoords"
           }
          ],
          "pie": [
           {
            "automargin": true,
            "type": "pie"
           }
          ],
          "scatter": [
           {
            "fillpattern": {
             "fillmode": "overlay",
             "size": 10,
             "solidity": 0.2
            },
            "type": "scatter"
           }
          ],
          "scatter3d": [
           {
            "line": {
             "colorbar": {
              "outlinewidth": 0,
              "ticks": ""
             }
            },
            "marker": {
             "colorbar": {
              "outlinewidth": 0,
              "ticks": ""
             }
            },
            "type": "scatter3d"
           }
          ],
          "scattercarpet": [
           {
            "marker": {
             "colorbar": {
              "outlinewidth": 0,
              "ticks": ""
             }
            },
            "type": "scattercarpet"
           }
          ],
          "scattergeo": [
           {
            "marker": {
             "colorbar": {
              "outlinewidth": 0,
              "ticks": ""
             }
            },
            "type": "scattergeo"
           }
          ],
          "scattergl": [
           {
            "marker": {
             "colorbar": {
              "outlinewidth": 0,
              "ticks": ""
             }
            },
            "type": "scattergl"
           }
          ],
          "scattermap": [
           {
            "marker": {
             "colorbar": {
              "outlinewidth": 0,
              "ticks": ""
             }
            },
            "type": "scattermap"
           }
          ],
          "scattermapbox": [
           {
            "marker": {
             "colorbar": {
              "outlinewidth": 0,
              "ticks": ""
             }
            },
            "type": "scattermapbox"
           }
          ],
          "scatterpolar": [
           {
            "marker": {
             "colorbar": {
              "outlinewidth": 0,
              "ticks": ""
             }
            },
            "type": "scatterpolar"
           }
          ],
          "scatterpolargl": [
           {
            "marker": {
             "colorbar": {
              "outlinewidth": 0,
              "ticks": ""
             }
            },
            "type": "scatterpolargl"
           }
          ],
          "scatterternary": [
           {
            "marker": {
             "colorbar": {
              "outlinewidth": 0,
              "ticks": ""
             }
            },
            "type": "scatterternary"
           }
          ],
          "surface": [
           {
            "colorbar": {
             "outlinewidth": 0,
             "ticks": ""
            },
            "colorscale": [
             [
              0,
              "#0d0887"
             ],
             [
              0.1111111111111111,
              "#46039f"
             ],
             [
              0.2222222222222222,
              "#7201a8"
             ],
             [
              0.3333333333333333,
              "#9c179e"
             ],
             [
              0.4444444444444444,
              "#bd3786"
             ],
             [
              0.5555555555555556,
              "#d8576b"
             ],
             [
              0.6666666666666666,
              "#ed7953"
             ],
             [
              0.7777777777777778,
              "#fb9f3a"
             ],
             [
              0.8888888888888888,
              "#fdca26"
             ],
             [
              1,
              "#f0f921"
             ]
            ],
            "type": "surface"
           }
          ],
          "table": [
           {
            "cells": {
             "fill": {
              "color": "#EBF0F8"
             },
             "line": {
              "color": "white"
             }
            },
            "header": {
             "fill": {
              "color": "#C8D4E3"
             },
             "line": {
              "color": "white"
             }
            },
            "type": "table"
           }
          ]
         },
         "layout": {
          "annotationdefaults": {
           "arrowcolor": "#2a3f5f",
           "arrowhead": 0,
           "arrowwidth": 1
          },
          "autotypenumbers": "strict",
          "coloraxis": {
           "colorbar": {
            "outlinewidth": 0,
            "ticks": ""
           }
          },
          "colorscale": {
           "diverging": [
            [
             0,
             "#8e0152"
            ],
            [
             0.1,
             "#c51b7d"
            ],
            [
             0.2,
             "#de77ae"
            ],
            [
             0.3,
             "#f1b6da"
            ],
            [
             0.4,
             "#fde0ef"
            ],
            [
             0.5,
             "#f7f7f7"
            ],
            [
             0.6,
             "#e6f5d0"
            ],
            [
             0.7,
             "#b8e186"
            ],
            [
             0.8,
             "#7fbc41"
            ],
            [
             0.9,
             "#4d9221"
            ],
            [
             1,
             "#276419"
            ]
           ],
           "sequential": [
            [
             0,
             "#0d0887"
            ],
            [
             0.1111111111111111,
             "#46039f"
            ],
            [
             0.2222222222222222,
             "#7201a8"
            ],
            [
             0.3333333333333333,
             "#9c179e"
            ],
            [
             0.4444444444444444,
             "#bd3786"
            ],
            [
             0.5555555555555556,
             "#d8576b"
            ],
            [
             0.6666666666666666,
             "#ed7953"
            ],
            [
             0.7777777777777778,
             "#fb9f3a"
            ],
            [
             0.8888888888888888,
             "#fdca26"
            ],
            [
             1,
             "#f0f921"
            ]
           ],
           "sequentialminus": [
            [
             0,
             "#0d0887"
            ],
            [
             0.1111111111111111,
             "#46039f"
            ],
            [
             0.2222222222222222,
             "#7201a8"
            ],
            [
             0.3333333333333333,
             "#9c179e"
            ],
            [
             0.4444444444444444,
             "#bd3786"
            ],
            [
             0.5555555555555556,
             "#d8576b"
            ],
            [
             0.6666666666666666,
             "#ed7953"
            ],
            [
             0.7777777777777778,
             "#fb9f3a"
            ],
            [
             0.8888888888888888,
             "#fdca26"
            ],
            [
             1,
             "#f0f921"
            ]
           ]
          },
          "colorway": [
           "#636efa",
           "#EF553B",
           "#00cc96",
           "#ab63fa",
           "#FFA15A",
           "#19d3f3",
           "#FF6692",
           "#B6E880",
           "#FF97FF",
           "#FECB52"
          ],
          "font": {
           "color": "#2a3f5f"
          },
          "geo": {
           "bgcolor": "white",
           "lakecolor": "white",
           "landcolor": "white",
           "showlakes": true,
           "showland": true,
           "subunitcolor": "#C8D4E3"
          },
          "hoverlabel": {
           "align": "left"
          },
          "hovermode": "closest",
          "mapbox": {
           "style": "light"
          },
          "paper_bgcolor": "white",
          "plot_bgcolor": "white",
          "polar": {
           "angularaxis": {
            "gridcolor": "#EBF0F8",
            "linecolor": "#EBF0F8",
            "ticks": ""
           },
           "bgcolor": "white",
           "radialaxis": {
            "gridcolor": "#EBF0F8",
            "linecolor": "#EBF0F8",
            "ticks": ""
           }
          },
          "scene": {
           "xaxis": {
            "backgroundcolor": "white",
            "gridcolor": "#DFE8F3",
            "gridwidth": 2,
            "linecolor": "#EBF0F8",
            "showbackground": true,
            "ticks": "",
            "zerolinecolor": "#EBF0F8"
           },
           "yaxis": {
            "backgroundcolor": "white",
            "gridcolor": "#DFE8F3",
            "gridwidth": 2,
            "linecolor": "#EBF0F8",
            "showbackground": true,
            "ticks": "",
            "zerolinecolor": "#EBF0F8"
           },
           "zaxis": {
            "backgroundcolor": "white",
            "gridcolor": "#DFE8F3",
            "gridwidth": 2,
            "linecolor": "#EBF0F8",
            "showbackground": true,
            "ticks": "",
            "zerolinecolor": "#EBF0F8"
           }
          },
          "shapedefaults": {
           "line": {
            "color": "#2a3f5f"
           }
          },
          "ternary": {
           "aaxis": {
            "gridcolor": "#DFE8F3",
            "linecolor": "#A2B1C6",
            "ticks": ""
           },
           "baxis": {
            "gridcolor": "#DFE8F3",
            "linecolor": "#A2B1C6",
            "ticks": ""
           },
           "bgcolor": "white",
           "caxis": {
            "gridcolor": "#DFE8F3",
            "linecolor": "#A2B1C6",
            "ticks": ""
           }
          },
          "title": {
           "x": 0.05
          },
          "xaxis": {
           "automargin": true,
           "gridcolor": "#EBF0F8",
           "linecolor": "#EBF0F8",
           "ticks": "",
           "title": {
            "standoff": 15
           },
           "zerolinecolor": "#EBF0F8",
           "zerolinewidth": 2
          },
          "yaxis": {
           "automargin": true,
           "gridcolor": "#EBF0F8",
           "linecolor": "#EBF0F8",
           "ticks": "",
           "title": {
            "standoff": 15
           },
           "zerolinecolor": "#EBF0F8",
           "zerolinewidth": 2
          }
         }
        },
        "title": {
         "text": "<b>Tau Sensitivity Analysis (Error Bound = 0.1)</b>",
         "x": 0.5
        },
        "width": 1150,
        "xaxis": {
         "anchor": "y",
         "domain": [
          0,
          0.45
         ],
         "tickmode": "array",
         "ticktext": [
          "0.1",
          "0.2",
          "0.3",
          "0.4"
         ],
         "tickvals": [
          0.1,
          0.2,
          0.3,
          0.4
         ],
         "title": {
          "text": "Tau"
         }
        },
        "xaxis2": {
         "anchor": "y2",
         "domain": [
          0.55,
          1
         ],
         "tickmode": "array",
         "ticktext": [
          "0.1",
          "0.2",
          "0.3",
          "0.4"
         ],
         "tickvals": [
          0.1,
          0.2,
          0.3,
          0.4
         ],
         "title": {
          "text": "Tau"
         }
        },
        "yaxis": {
         "anchor": "x",
         "domain": [
          0,
          1
         ],
         "title": {
          "text": "Mean Winnings"
         }
        },
        "yaxis2": {
         "anchor": "x2",
         "domain": [
          0,
          1
         ],
         "title": {
          "text": "Selection Ratio"
         }
        }
       }
      }
     },
     "metadata": {},
     "output_type": "display_data"
    }
   ],
   "source": [
    "# Step 1: Load Data\n",
    "Taus = [0.1, 0.2, 0.3, 0.4]\n",
    "Error = 0.1\n",
    "Data = {}\n",
    "\n",
    "for Tau in Taus:\n",
    "    input_dir = Path(f\"Two Dimensions/Simulation_Results_Tau={Tau}_Error_Bound={Error}\")\n",
    "    Data[Tau] = pd.read_excel(f\"{input_dir}/Summary.xlsx\", sheet_name=None)\n",
    "    for sheet in Data[Tau].keys():\n",
    "        Data[Tau][sheet] = Data[Tau][sheet].set_index(\"Unnamed: 0\")\n",
    "\n",
    "# Step 2: Setup\n",
    "config_names = list(configs.keys())\n",
    "nice_colors = [\n",
    "    \"#636EFA\", \"#EF553B\", \"#00CC96\", \"#AB63FA\",\n",
    "    \"#FFA15A\", \"#19D3F3\", \"#FF6692\", \"#B6E880\"\n",
    "]\n",
    "color_map = {cfg: nice_colors[i % len(nice_colors)] for i, cfg in enumerate(config_names)}\n",
    "\n",
    "# Step 3: Create Subplots\n",
    "fig = make_subplots(\n",
    "    rows=1, cols=2,\n",
    "    subplot_titles=[\"Mean Winnings vs Tau\", \"Selection Ratio vs Tau\"],\n",
    "    horizontal_spacing=0.1\n",
    ")\n",
    "\n",
    "# Step 4: Add Traces\n",
    "for config in config_names:\n",
    "    best_teams = []\n",
    "    winnings = []\n",
    "    ratios = []\n",
    "\n",
    "    for tau in Taus:\n",
    "        best = Mapping[(tau,Error)][config][\"Highest Probability Team\"]\n",
    "        best_teams.append(str(best))\n",
    "        winnings.append(Data[tau][config][f\"Expert {best} Winnings (Non-zero)\"].loc['Mean (including zeros)'])\n",
    "        ratios.append(Data[tau][config][f\"Total_Sel_{best}\"].loc['Selection Ratio (Weighted) (Analytical/Random)'])\n",
    "\n",
    "    best_team_str = \" → \".join(best_teams)  # Unicode arrow\n",
    "    label = f\"{config} (Best Teams: {best_team_str})\"\n",
    "\n",
    "    # Plot: Mean Winnings\n",
    "    fig.add_trace(\n",
    "        go.Scatter(\n",
    "            x=Taus,\n",
    "            y=winnings,\n",
    "            mode='lines+markers',\n",
    "            name=label,\n",
    "            line=dict(color=color_map[config], width=3),\n",
    "            marker=dict(size=8),\n",
    "            legendgroup=config,\n",
    "            hovertemplate=f\"{label}<br>Tau=%{{x}}<br>Winnings=%{{y:.2f}}<extra></extra>\"\n",
    "        ),\n",
    "        row=1, col=1\n",
    "    )\n",
    "\n",
    "    # Plot: Selection Ratio\n",
    "    fig.add_trace(\n",
    "        go.Scatter(\n",
    "            x=Taus,\n",
    "            y=ratios,\n",
    "            mode='lines+markers',\n",
    "            name=label,\n",
    "            line=dict(color=color_map[config], width=3, dash='dot'),\n",
    "            marker=dict(size=8),\n",
    "            legendgroup=config,\n",
    "            showlegend=False,\n",
    "            hovertemplate=f\"{label}<br>Tau=%{{x}}<br>Sel. Ratio=%{{y:.2f}}<extra></extra>\"\n",
    "        ),\n",
    "        row=1, col=2\n",
    "    )\n",
    "\n",
    "# Step 5: Layout\n",
    "fig.update_layout(\n",
    "    title=f\"<b>Tau Sensitivity Analysis (Error Bound = {Error})</b>\",\n",
    "    title_x=0.5,\n",
    "    template=\"plotly_white\",\n",
    "    width=1150,\n",
    "    height=520,\n",
    "    hovermode=\"closest\",\n",
    "    font=dict(size=14, family=\"Arial\"),\n",
    "    margin=dict(l=60, r=20, t=70, b=50),\n",
    "    legend=dict(\n",
    "        orientation=\"v\",\n",
    "        x=1.02,\n",
    "        y=1,\n",
    "        bgcolor='rgba(0,0,0,0)',\n",
    "        bordercolor='rgba(0,0,0,0)'\n",
    "    )\n",
    ")\n",
    "\n",
    "# Step 6: Axes\n",
    "fig.update_xaxes(\n",
    "    title_text=\"Tau\",\n",
    "    tickmode=\"array\",\n",
    "    tickvals=Taus,\n",
    "    ticktext=[str(t) for t in Taus],\n",
    "    row=1, col=1\n",
    ")\n",
    "fig.update_yaxes(title_text=\"Mean Winnings\", row=1, col=1)\n",
    "\n",
    "fig.update_xaxes(\n",
    "    title_text=\"Tau\",\n",
    "    tickmode=\"array\",\n",
    "    tickvals=Taus,\n",
    "    ticktext=[str(t) for t in Taus],\n",
    "    row=1, col=2\n",
    ")\n",
    "fig.update_yaxes(title_text=\"Selection Ratio\", row=1, col=2)\n",
    "\n",
    "# Step 7: Save + Show\n",
    "output_dir = Path(\"Two Dimensions\")\n",
    "output_dir.mkdir(parents=True, exist_ok=True)\n",
    "fig.write_html(str(output_dir / f\"Tau_Comparison_ErrorBound={Error}.html\"))\n",
    "fig.show()"
   ]
  },
  {
   "cell_type": "code",
   "execution_count": 12,
   "id": "f50e58e5",
   "metadata": {},
   "outputs": [
    {
     "data": {
      "text/plain": [
       "{(0.1,\n",
       "  0.1): {'Equi-mean_Equivariance': {'Team_Selector': <Team_Win_Analysis_Runner.Expert_Team_Selection at 0x131361010>,\n",
       "   'Highest Probability Team': 1}, 'Unequal-mean_Equivariance': {'Team_Selector': <Team_Win_Analysis_Runner.Expert_Team_Selection at 0x135e549f0>,\n",
       "   'Highest Probability Team': 4}, 'Equi-mean_Unequal-std': {'Team_Selector': <Team_Win_Analysis_Runner.Expert_Team_Selection at 0x135e54910>,\n",
       "   'Highest Probability Team': 1}, 'Unequal-mean_Unequal-std': {'Team_Selector': <Team_Win_Analysis_Runner.Expert_Team_Selection at 0x135e54ad0>,\n",
       "   'Highest Probability Team': 4}},\n",
       " (0.2,\n",
       "  0.1): {'Equi-mean_Equivariance': {'Team_Selector': <Team_Win_Analysis_Runner.Expert_Team_Selection at 0x136f59710>,\n",
       "   'Highest Probability Team': 3}, 'Unequal-mean_Equivariance': {'Team_Selector': <Team_Win_Analysis_Runner.Expert_Team_Selection at 0x136f5a430>,\n",
       "   'Highest Probability Team': 4}, 'Equi-mean_Unequal-std': {'Team_Selector': <Team_Win_Analysis_Runner.Expert_Team_Selection at 0x136f5ab30>,\n",
       "   'Highest Probability Team': 1}, 'Unequal-mean_Unequal-std': {'Team_Selector': <Team_Win_Analysis_Runner.Expert_Team_Selection at 0x136f5b4d0>,\n",
       "   'Highest Probability Team': 4}},\n",
       " (0.3,\n",
       "  0.1): {'Equi-mean_Equivariance': {'Team_Selector': <Team_Win_Analysis_Runner.Expert_Team_Selection at 0x136b4e190>,\n",
       "   'Highest Probability Team': 1}, 'Unequal-mean_Equivariance': {'Team_Selector': <Team_Win_Analysis_Runner.Expert_Team_Selection at 0x136b4d9b0>,\n",
       "   'Highest Probability Team': 4}, 'Equi-mean_Unequal-std': {'Team_Selector': <Team_Win_Analysis_Runner.Expert_Team_Selection at 0x136b4e510>,\n",
       "   'Highest Probability Team': 3}, 'Unequal-mean_Unequal-std': {'Team_Selector': <Team_Win_Analysis_Runner.Expert_Team_Selection at 0x136b4db70>,\n",
       "   'Highest Probability Team': 4}},\n",
       " (0.4,\n",
       "  0.1): {'Equi-mean_Equivariance': {'Team_Selector': <Team_Win_Analysis_Runner.Expert_Team_Selection at 0x137e920b0>,\n",
       "   'Highest Probability Team': 2}, 'Unequal-mean_Equivariance': {'Team_Selector': <Team_Win_Analysis_Runner.Expert_Team_Selection at 0x137e91ef0>,\n",
       "   'Highest Probability Team': 4}, 'Equi-mean_Unequal-std': {'Team_Selector': <Team_Win_Analysis_Runner.Expert_Team_Selection at 0x137e934d0>,\n",
       "   'Highest Probability Team': 3}, 'Unequal-mean_Unequal-std': {'Team_Selector': <Team_Win_Analysis_Runner.Expert_Team_Selection at 0x137e92dd0>,\n",
       "   'Highest Probability Team': 4}},\n",
       " (0.2,\n",
       "  0.02): {'Equi-mean_Equivariance': {'Team_Selector': <Team_Win_Analysis_Runner.Expert_Team_Selection at 0x144a82510>,\n",
       "   'Highest Probability Team': 3}, 'Unequal-mean_Equivariance': {'Team_Selector': <Team_Win_Analysis_Runner.Expert_Team_Selection at 0x144a81d30>,\n",
       "   'Highest Probability Team': 4}, 'Equi-mean_Unequal-std': {'Team_Selector': <Team_Win_Analysis_Runner.Expert_Team_Selection at 0x144a82dd0>,\n",
       "   'Highest Probability Team': 1}, 'Unequal-mean_Unequal-std': {'Team_Selector': <Team_Win_Analysis_Runner.Expert_Team_Selection at 0x144a820b0>,\n",
       "   'Highest Probability Team': 4}},\n",
       " (0.2,\n",
       "  0.06): {'Equi-mean_Equivariance': {'Team_Selector': <Team_Win_Analysis_Runner.Expert_Team_Selection at 0x146c4be70>,\n",
       "   'Highest Probability Team': 3}, 'Unequal-mean_Equivariance': {'Team_Selector': <Team_Win_Analysis_Runner.Expert_Team_Selection at 0x146c4bcb0>,\n",
       "   'Highest Probability Team': 4}, 'Equi-mean_Unequal-std': {'Team_Selector': <Team_Win_Analysis_Runner.Expert_Team_Selection at 0x147ac42f0>,\n",
       "   'Highest Probability Team': 3}, 'Unequal-mean_Unequal-std': {'Team_Selector': <Team_Win_Analysis_Runner.Expert_Team_Selection at 0x147ac4ad0>,\n",
       "   'Highest Probability Team': 4}},\n",
       " (0.2,\n",
       "  0.14): {'Equi-mean_Equivariance': {'Team_Selector': <Team_Win_Analysis_Runner.Expert_Team_Selection at 0x154ce9630>,\n",
       "   'Highest Probability Team': 1}, 'Unequal-mean_Equivariance': {'Team_Selector': <Team_Win_Analysis_Runner.Expert_Team_Selection at 0x154ce9fd0>,\n",
       "   'Highest Probability Team': 4}, 'Equi-mean_Unequal-std': {'Team_Selector': <Team_Win_Analysis_Runner.Expert_Team_Selection at 0x154cea430>,\n",
       "   'Highest Probability Team': 3}, 'Unequal-mean_Unequal-std': {'Team_Selector': <Team_Win_Analysis_Runner.Expert_Team_Selection at 0x154cea5f0>,\n",
       "   'Highest Probability Team': 4}}}"
      ]
     },
     "execution_count": 12,
     "metadata": {},
     "output_type": "execute_result"
    }
   ],
   "source": [
    "Mapping"
   ]
  }
 ],
 "metadata": {
  "kernelspec": {
   "display_name": "Python 3",
   "language": "python",
   "name": "python3"
  },
  "language_info": {
   "codemirror_mode": {
    "name": "ipython",
    "version": 3
   },
   "file_extension": ".py",
   "mimetype": "text/x-python",
   "name": "python",
   "nbconvert_exporter": "python",
   "pygments_lexer": "ipython3",
   "version": "3.13.3"
  }
 },
 "nbformat": 4,
 "nbformat_minor": 5
}
