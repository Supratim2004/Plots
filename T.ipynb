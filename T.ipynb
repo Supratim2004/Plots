{
 "cells": [
  {
   "cell_type": "code",
   "execution_count": 2,
   "id": "3673d2ec",
   "metadata": {},
   "outputs": [],
   "source": [
    "import os\n",
    "\n",
    "def generate_index_html(root_dir):\n",
    "    html = \"<html><head><title>Index of {}</title></head><body>\".format(root_dir)\n",
    "    html += \"<h1>Index of {}</h1><ul>\".format(root_dir)\n",
    "\n",
    "    for dirpath, dirnames, filenames in os.walk(root_dir):\n",
    "        rel_path = os.path.relpath(dirpath, root_dir)\n",
    "        html += f\"<li><strong>{rel_path}</strong><ul>\"\n",
    "\n",
    "        for f in filenames:\n",
    "            full_path = os.path.join(rel_path, f)\n",
    "            html += f'<li><a href=\"{full_path}\">{f}</a></li>'\n",
    "\n",
    "        html += \"</ul></li>\"\n",
    "\n",
    "    html += \"</ul></body></html>\"\n",
    "\n",
    "    with open(\"index1.html\", \"w\") as f:\n",
    "        f.write(html)\n",
    "\n",
    "generate_index_html(\"IID\")"
   ]
  },
  {
   "cell_type": "code",
   "execution_count": 3,
   "id": "faf878ca",
   "metadata": {},
   "outputs": [],
   "source": [
    "import os\n",
    "\n",
    "def generate_tree_html(startpath):\n",
    "    html = \"<html><head><title>Repo Index</title></head><body>\"\n",
    "    html += \"<h1>📂 Index</h1><ul>\"\n",
    "\n",
    "    for root, dirs, files in os.walk(startpath):\n",
    "        rel_root = os.path.relpath(root, startpath)\n",
    "        indent_level = rel_root.count(os.sep)\n",
    "        indent = \"&nbsp;\" * 4 * indent_level\n",
    "\n",
    "        html += f\"<li>{indent}<strong>{rel_root}</strong><ul>\"\n",
    "\n",
    "        for f in files:\n",
    "            file_path = os.path.join(rel_root, f).replace('\\\\', '/')\n",
    "            html += f'<li>{indent}&nbsp;&nbsp;<a href=\"{file_path}\">{f}</a></li>'\n",
    "\n",
    "        html += \"</ul></li>\"\n",
    "\n",
    "    html += \"</ul></body></html>\"\n",
    "\n",
    "    with open(\"index.html\", \"w\") as f:\n",
    "        f.write(html)\n",
    "\n",
    "generate_tree_html(\".\")"
   ]
  }
 ],
 "metadata": {
  "kernelspec": {
   "display_name": "Python 3",
   "language": "python",
   "name": "python3"
  },
  "language_info": {
   "codemirror_mode": {
    "name": "ipython",
    "version": 3
   },
   "file_extension": ".py",
   "mimetype": "text/x-python",
   "name": "python",
   "nbconvert_exporter": "python",
   "pygments_lexer": "ipython3",
   "version": "3.13.3"
  }
 },
 "nbformat": 4,
 "nbformat_minor": 5
}
